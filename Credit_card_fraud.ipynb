{
 "cells": [
  {
   "cell_type": "code",
   "execution_count": null,
   "id": "bc952d60",
   "metadata": {},
   "outputs": [],
   "source": [
    "import numpy as np\n",
    "import matplotlib.pyplot as plt\n",
    "import pandas as pd\n",
    "from xgboost import XGBRFClassifier\n",
    "\n",
    "from sklearn.model_selection import RepeatedStratifiedKFold\n",
    "from sklearn.metrics import f1_score\n",
    "from sklearn.pipeline import Pipeline\n",
    "from sklearn.preprocessing import StandardScaler\n",
    "\n",
    "from sklearn.ensemble import RandomForestClassifier\n",
    "from sklearn.tree import DecisionTreeClassifier\n",
    "from sklearn.ensemble import BaggingClassifier\n",
    "from sklearn.neighbors import KNeighborsClassifier\n",
    "from sklearn.ensemble import RandomForestClassifier\n",
    "from sklearn.ensemble import ExtraTreesClassifier"
   ]
  },
  {
   "cell_type": "code",
   "execution_count": 5,
   "id": "6039e366",
   "metadata": {},
   "outputs": [
    {
     "data": {
      "text/plain": [
       "0    197982\n",
       "1       383\n",
       "Name: Class, dtype: int64"
      ]
     },
     "execution_count": 5,
     "metadata": {},
     "output_type": "execute_result"
    }
   ],
   "source": [
    "df = pd.read_csv('train.csv', index_col = 'ID')\n",
    "X = df.iloc[:, :-1].values\n",
    "y = df.iloc[:, -1].values\n",
    "df['Class'].value_counts()"
   ]
  },
  {
   "cell_type": "code",
   "execution_count": null,
   "id": "a4932822",
   "metadata": {},
   "outputs": [],
   "source": [
    "model = RandomForestClassifier(n_estimators = 10, criterion = 'entropy', random_state = 5678)\n",
    "# 85.92% second shortest"
   ]
  },
  {
   "cell_type": "code",
   "execution_count": 6,
   "id": "1dcb26b4",
   "metadata": {},
   "outputs": [],
   "source": [
    "model = XGBRFClassifier(n_estimators = 10, subsample = 0.9, solsample_bynode = 0.2)\n",
    "# 85.1, fastest model took less than 5 minutes, used alot of computing power though"
   ]
  },
  {
   "cell_type": "code",
   "execution_count": null,
   "id": "57b35757",
   "metadata": {},
   "outputs": [],
   "source": [
    "model = DecisionTreeClassifier()\n",
    "# 78%"
   ]
  },
  {
   "cell_type": "code",
   "execution_count": null,
   "id": "1ee3e703",
   "metadata": {},
   "outputs": [],
   "source": [
    "model = BaggingClassifier(n_estimators=10)\n",
    "# 85.9 long asf"
   ]
  },
  {
   "cell_type": "code",
   "execution_count": null,
   "id": "e775b18c",
   "metadata": {},
   "outputs": [],
   "source": [
    "model = Pipeline([('s',StandardScaler()),('m',KNeighborsClassifier())])\n",
    "# 85.41% long asf"
   ]
  },
  {
   "cell_type": "code",
   "execution_count": null,
   "id": "1348e6ac",
   "metadata": {},
   "outputs": [],
   "source": [
    "model = ExtraTreesClassifier(n_estimators=10)\n",
    "# 85.81 pretty long but not as fast as random forest"
   ]
  },
  {
   "cell_type": "code",
   "execution_count": null,
   "id": "7e3dd048",
   "metadata": {
    "scrolled": true
   },
   "outputs": [],
   "source": [
    "rskf = RepeatedStratifiedKFold(n_splits=10, random_state=1)\n",
    "scores = []\n",
    "counter = 1\n",
    "for train_index, test_index in rskf.split(X, y):\n",
    "    print(\"ITERATION: \" + str(counter) + \" ## TRAIN:\", train_index, \"TEST:\", test_index)\n",
    "    X_train, X_test = X[train_index], X[test_index]\n",
    "    y_train, y_test = y[train_index], y[test_index]\n",
    "    #score = cross_val_score(model, X_train, y_train, cv=rskf)\n",
    "    model.fit(X_train, y_train)\n",
    "    y_pred = model.predict(X_test)\n",
    "    scores.append(f1_score(y_test, y_pred))\n",
    "    counter += 1"
   ]
  },
  {
   "cell_type": "code",
   "execution_count": 8,
   "id": "27905cd8",
   "metadata": {
    "scrolled": true
   },
   "outputs": [
    {
     "name": "stdout",
     "output_type": "stream",
     "text": [
      "85.1\n"
     ]
    }
   ],
   "source": [
    "print(np.round(np.mean(scores),4) * 100)"
   ]
  },
  {
   "cell_type": "code",
   "execution_count": null,
   "id": "a25ff5f5",
   "metadata": {},
   "outputs": [],
   "source": [
    "type(model)"
   ]
  },
  {
   "cell_type": "code",
   "execution_count": null,
   "id": "3f0c5b4a",
   "metadata": {
    "scrolled": true
   },
   "outputs": [],
   "source": [
    "test = pd.read_csv('test.csv', index_col = 'ID')\n",
    "pred = model.predict(test)\n",
    "ans = pd.DataFrame(index = test.index)\n",
    "ans = ans.assign(Class = pred)\n",
    "ans.to_csv('Submission.csv')\n",
    "ans"
   ]
  },
  {
   "cell_type": "code",
   "execution_count": null,
   "id": "cf5fe1fc",
   "metadata": {},
   "outputs": [],
   "source": [
    "ans.value_counts()"
   ]
  }
 ],
 "metadata": {
  "kernelspec": {
   "display_name": "Python 3 (ipykernel)",
   "language": "python",
   "name": "python3"
  },
  "language_info": {
   "codemirror_mode": {
    "name": "ipython",
    "version": 3
   },
   "file_extension": ".py",
   "mimetype": "text/x-python",
   "name": "python",
   "nbconvert_exporter": "python",
   "pygments_lexer": "ipython3",
   "version": "3.9.7"
  }
 },
 "nbformat": 4,
 "nbformat_minor": 5
}
